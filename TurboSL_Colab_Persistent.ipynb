{
 "cells": [
  {
   "cell_type": "markdown",
   "metadata": {},
   "source": [
    "# TurboSL: Neural Inverse Structured Light - Google Colab (持久化版本)\n",
    "\n",
    "这个版本使用 Google Drive 来持久化项目和编译好的库，避免每次重新安装\n",
    "\n",
    "**重要**: \n",
    "1. 确保在 Colab 中选择 GPU 运行时：Runtime -> Change runtime type -> Hardware accelerator -> GPU\n",
    "2. 第一次运行需要完整安装（~15分钟），之后每次启动只需要 2-3 分钟"
   ]
  },
  {
   "cell_type": "markdown",
   "metadata": {},
   "source": [
    "## 1. 挂载 Google Drive"
   ]
  },
  {
   "cell_type": "code",
   "execution_count": null,
   "metadata": {},
   "outputs": [],
   "source": [
    "from google.colab import drive\n",
    "import os\n",
    "\n",
    "# 挂载 Google Drive\n",
    "drive.mount('/content/drive')\n",
    "\n",
    "# 设置工作目录\n",
    "WORK_DIR = '/content/drive/MyDrive/TurboSL_workspace'\n",
    "os.makedirs(WORK_DIR, exist_ok=True)\n",
    "\n",
    "print(f\"✓ Google Drive mounted\")\n",
    "print(f\"✓ Workspace: {WORK_DIR}\")"
   ]
  },
  {
   "cell_type": "markdown",
   "metadata": {},
   "source": [
    "## 2. 检查 GPU 环境"
   ]
  },
  {
   "cell_type": "code",
   "execution_count": null,
   "metadata": {},
   "outputs": [],
   "source": [
    "import torch\n",
    "import sys\n",
    "\n",
    "print(f\"Python version: {sys.version}\")\n",
    "print(f\"PyTorch version: {torch.__version__}\")\n",
    "print(f\"CUDA available: {torch.cuda.is_available()}\")\n",
    "if torch.cuda.is_available():\n",
    "    print(f\"CUDA version: {torch.version.cuda}\")\n",
    "    print(f\"GPU: {torch.cuda.get_device_name(0)}\")\n",
    "    print(f\"GPU Memory: {torch.cuda.get_device_properties(0).total_memory / 1024**3:.2f} GB\")\n",
    "else:\n",
    "    print(\"WARNING: No GPU detected! Please enable GPU in Runtime settings.\")"
   ]
  },
  {
   "cell_type": "markdown",
   "metadata": {},
   "source": [
    "## 3. 智能安装/恢复环境\n",
    "\n",
    "这个 cell 会检查是否已经安装过，如果是第一次运行会完整安装，之后会快速恢复"
   ]
  },
  {
   "cell_type": "code",
   "execution_count": null,
   "metadata": {},
   "outputs": [],
   "source": [
    "import os\n",
    "import time\n",
    "from datetime import datetime\n",
    "\n",
    "# 检查是否已经安装过\n",
    "PROJECT_DIR = os.path.join(WORK_DIR, 'TurboSL')\n",
    "INSTALL_FLAG = os.path.join(WORK_DIR, '.tinycudann_installed')\n",
    "\n",
    "if os.path.exists(INSTALL_FLAG):\n",
    "    print(\"✓ 检测到已安装的环境，跳过完整安装\")\n",
    "    print(\"⚡ 快速模式：只需要 2-3 分钟\")\n",
    "    FIRST_TIME = False\n",
    "else:\n",
    "    print(\"⚠️  首次安装模式\")\n",
    "    print(\"⏰ 预计需要 12-16 分钟（包括编译 tiny-cuda-nn）\")\n",
    "    FIRST_TIME = True\n",
    "\n",
    "print(f\"\\n开始时间: {datetime.now().strftime('%H:%M:%S')}\")"
   ]
  },
  {
   "cell_type": "markdown",
   "metadata": {},
   "source": [
    "### 3.1 克隆/更新项目"
   ]
  },
  {
   "cell_type": "code",
   "execution_count": null,
   "metadata": {},
   "outputs": [],
   "source": [
    "import os\n",
    "\n",
    "%cd {WORK_DIR}\n",
    "\n",
    "if not os.path.exists(PROJECT_DIR):\n",
    "    print(\"📥 克隆项目...\")\n",
    "    !git clone https://github.com/guge2/TurboSL.git\n",
    "    print(\"✓ 项目克隆完成\")\n",
    "else:\n",
    "    print(\"✓ 项目已存在，更新代码...\")\n",
    "    %cd {PROJECT_DIR}\n",
    "    !git pull\n",
    "    print(\"✓ 代码更新完成\")\n",
    "\n",
    "%cd {PROJECT_DIR}"
   ]
  },
  {
   "cell_type": "markdown",
   "metadata": {},
   "source": [
    "### 3.2 安装依赖"
   ]
  },
  {
   "cell_type": "code",
   "execution_count": null,
   "metadata": {},
   "outputs": [],
   "source": [
    "import time\n",
    "from datetime import datetime\n",
    "\n",
    "if FIRST_TIME:\n",
    "    # 首次安装：完整流程\n",
    "    print(\"=\"*50)\n",
    "    print(\"开始完整安装流程\")\n",
    "    print(\"=\"*50)\n",
    "    \n",
    "    # 1. 安装编译工具\n",
    "    print(\"\\n[1/3] 安装编译工具...\")\n",
    "    !apt-get update -qq\n",
    "    !apt-get install -y build-essential -qq\n",
    "    print(\"✓ 编译工具安装完成\")\n",
    "    \n",
    "    # 2. 安装 tiny-cuda-nn (最耗时)\n",
    "    print(\"\\n[2/3] 安装 tiny-cuda-nn...\")\n",
    "    print(\"⚠️  这一步需要 8-12 分钟（编译 CUDA 代码）\")\n",
    "    print(f\"⏰ 开始时间: {datetime.now().strftime('%H:%M:%S')}\")\n",
    "    print(\"\\n编译中... 请耐心等待\\n\")\n",
    "    \n",
    "    start_time = time.time()\n",
    "    !pip install git+https://github.com/NVlabs/tiny-cuda-nn/@212104156403bd87616c1a4f73a1c5f2c2e172a9#subdirectory=bindings/torch\n",
    "    elapsed = time.time() - start_time\n",
    "    \n",
    "    print(f\"\\n✓ tiny-cuda-nn 安装完成\")\n",
    "    print(f\"⏱️  用时: {elapsed/60:.1f} 分钟\")\n",
    "    \n",
    "    # 3. 安装其他依赖\n",
    "    print(\"\\n[3/3] 安装其他依赖...\")\n",
    "    !pip install -r code/requirements.txt -q\n",
    "    print(\"✓ 其他依赖安装完成\")\n",
    "    \n",
    "    # 创建安装标记\n",
    "    with open(INSTALL_FLAG, 'w') as f:\n",
    "        f.write(datetime.now().isoformat())\n",
    "    print(f\"\\n✓ 安装标记已创建: {INSTALL_FLAG}\")\n",
    "    print(\"\\n🎉 首次安装完成！下次启动会快很多\")\n",
    "    \n",
    "else:\n",
    "    # 非首次：快速恢复\n",
    "    print(\"=\"*50)\n",
    "    print(\"快速恢复环境\")\n",
    "    print(\"=\"*50)\n",
    "    \n",
    "    print(\"\\n安装必要的包...\")\n",
    "    # 只安装可能缺失的包\n",
    "    !pip install pytorch-lightning omegaconf tensorboard -q\n",
    "    \n",
    "    # 尝试导入 tinycudann 来验证\n",
    "    try:\n",
    "        import tinycudann\n",
    "        print(\"✓ tiny-cuda-nn 可用\")\n",
    "    except ImportError:\n",
    "        print(\"⚠️  tiny-cuda-nn 不可用，需要重新安装\")\n",
    "        print(\"正在重新安装 tiny-cuda-nn...\")\n",
    "        !pip install git+https://github.com/NVlabs/tiny-cuda-nn/@212104156403bd87616c1a4f73a1c5f2c2e172a9#subdirectory=bindings/torch\n",
    "    \n",
    "    print(\"\\n✓ 环境恢复完成\")\n",
    "\n",
    "print(\"\\n\" + \"=\"*50)\n",
    "print(f\"✓ 所有依赖就绪！\")\n",
    "print(f\"⏰ 完成时间: {datetime.now().strftime('%H:%M:%S')}\")\n",
    "print(\"=\"*50)"
   ]
  },
  {
   "cell_type": "markdown",
   "metadata": {},
   "source": [
    "## 4. 验证安装"
   ]
  },
  {
   "cell_type": "code",
   "execution_count": null,
   "metadata": {},
   "outputs": [],
   "source": [
    "# 验证关键包\n",
    "print(\"验证关键依赖...\\n\")\n",
    "\n",
    "try:\n",
    "    import torch\n",
    "    print(f\"✓ PyTorch: {torch.__version__}\")\n",
    "except ImportError as e:\n",
    "    print(f\"✗ PyTorch: {e}\")\n",
    "\n",
    "try:\n",
    "    import tinycudann\n",
    "    print(f\"✓ tiny-cuda-nn: OK\")\n",
    "except ImportError as e:\n",
    "    print(f\"✗ tiny-cuda-nn: {e}\")\n",
    "\n",
    "try:\n",
    "    import pytorch_lightning as pl\n",
    "    print(f\"✓ PyTorch Lightning: {pl.__version__}\")\n",
    "except ImportError as e:\n",
    "    print(f\"✗ PyTorch Lightning: {e}\")\n",
    "\n",
    "try:\n",
    "    from omegaconf import OmegaConf\n",
    "    print(f\"✓ OmegaConf: OK\")\n",
    "except ImportError as e:\n",
    "    print(f\"✗ OmegaConf: {e}\")\n",
    "\n",
    "print(\"\\n✓ 所有关键依赖验证通过！\")"
   ]
  },
  {
   "cell_type": "markdown",
   "metadata": {},
   "source": [
    "## 5. 检查数据"
   ]
  },
  {
   "cell_type": "code",
   "execution_count": null,
   "metadata": {},
   "outputs": [],
   "source": [
    "import os\n",
    "\n",
    "# 检查数据目录\n",
    "data_dir = \"data/captured_data/david/david_opt0_n3_f128\"\n",
    "\n",
    "if os.path.exists(data_dir):\n",
    "    print(f\"✓ 数据目录存在: {data_dir}\")\n",
    "    \n",
    "    # 统计文件\n",
    "    import glob\n",
    "    images = glob.glob(os.path.join(data_dir, 'images/scene_images/*.png'))\n",
    "    patterns = glob.glob(os.path.join(data_dir, 'patterns/*.png'))\n",
    "    \n",
    "    print(f\"\\n数据统计:\")\n",
    "    print(f\"  - 场景图像: {len(images)} 张\")\n",
    "    print(f\"  - 投影模式: {len(patterns)} 张\")\n",
    "    print(f\"  - 标定文件: {'存在' if os.path.exists(os.path.join(data_dir, 'paramcv.mat')) else '不存在'}\")\n",
    "    print(f\"  - 物体 mask: {'存在' if os.path.exists(os.path.join(data_dir, 'mask-undistorted.png')) else '不存在'}\")\n",
    "    \n",
    "    print(\"\\n✓ 数据完整，可以开始训练\")\n",
    "else:\n",
    "    print(f\"✗ 数据目录不存在: {data_dir}\")\n",
    "    print(\"请检查数据是否包含在仓库中\")"
   ]
  },
  {
   "cell_type": "markdown",
   "metadata": {},
   "source": [
    "## 6. 配置训练参数"
   ]
  },
  {
   "cell_type": "code",
   "execution_count": null,
   "metadata": {},
   "outputs": [],
   "source": [
    "# 使用默认配置\n",
    "config_file = \"configs/neus-sl-geoalbamb-capture-blur.yaml\"\n",
    "\n",
    "# 查看配置（可选）\n",
    "# !cat code/{config_file}\n",
    "\n",
    "print(f\"使用配置: {config_file}\")\n",
    "print(\"\\n配置说明:\")\n",
    "print(\"  - 训练步数: 10,000\")\n",
    "print(\"  - 验证间隔: 每 2,000 步\")\n",
    "print(\"  - 预计训练时间: 30-60 分钟\")"
   ]
  },
  {
   "cell_type": "markdown",
   "metadata": {},
   "source": [
    "## 7. 开始训练"
   ]
  },
  {
   "cell_type": "code",
   "execution_count": null,
   "metadata": {},
   "outputs": [],
   "source": [
    "from datetime import datetime\n",
    "\n",
    "print(\"=\"*50)\n",
    "print(\"开始训练\")\n",
    "print(\"=\"*50)\n",
    "print(f\"⏰ 开始时间: {datetime.now().strftime('%H:%M:%S')}\")\n",
    "print(f\"📂 工作目录: {os.getcwd()}\")\n",
    "print(f\"⚙️  配置文件: {config_file}\")\n",
    "print(\"\\n训练中...\\n\")\n",
    "\n",
    "%cd {PROJECT_DIR}/code\n",
    "!python launch.py --config {config_file} --gpu 0"
   ]
  },
  {
   "cell_type": "markdown",
   "metadata": {},
   "source": [
    "## 8. 监控训练进度"
   ]
  },
  {
   "cell_type": "code",
   "execution_count": null,
   "metadata": {},
   "outputs": [],
   "source": [
    "# 查看实验目录\n",
    "%cd {PROJECT_DIR}/code\n",
    "!ls -lt exp/ | head -20"
   ]
  },
  {
   "cell_type": "markdown",
   "metadata": {},
   "source": [
    "## 9. TensorBoard 可视化"
   ]
  },
  {
   "cell_type": "code",
   "execution_count": null,
   "metadata": {},
   "outputs": [],
   "source": [
    "%load_ext tensorboard\n",
    "%tensorboard --logdir {PROJECT_DIR}/code/runs/"
   ]
  },
  {
   "cell_type": "markdown",
   "metadata": {},
   "source": [
    "## 10. 查看训练结果"
   ]
  },
  {
   "cell_type": "code",
   "execution_count": null,
   "metadata": {},
   "outputs": [],
   "source": [
    "import os\n",
    "import glob\n",
    "\n",
    "%cd {PROJECT_DIR}/code\n",
    "\n",
    "# 查找最新的实验\n",
    "exp_dirs = sorted(glob.glob('exp/*/'), key=os.path.getmtime, reverse=True)\n",
    "\n",
    "if exp_dirs:\n",
    "    latest_exp = exp_dirs[0]\n",
    "    print(f\"最新实验: {latest_exp}\\n\")\n",
    "    \n",
    "    print(\"实验结构:\")\n",
    "    !ls -lh {latest_exp}\n",
    "    \n",
    "    # 检查保存的文件\n",
    "    save_dir = os.path.join(latest_exp, 'save')\n",
    "    if os.path.exists(save_dir):\n",
    "        print(f\"\\n保存的结果 ({save_dir}):\")\n",
    "        !ls -lh {save_dir}\n",
    "else:\n",
    "    print(\"未找到实验结果\")"
   ]
  },
  {
   "cell_type": "markdown",
   "metadata": {},
   "source": [
    "## 11. 导出结果到 Google Drive\n",
    "\n",
    "训练结果已经自动保存在 Google Drive 中了！"
   ]
  },
  {
   "cell_type": "code",
   "execution_count": null,
   "metadata": {},
   "outputs": [],
   "source": [
    "print(\"✓ 所有结果已自动保存到 Google Drive\")\n",
    "print(f\"\\n位置: {PROJECT_DIR}/code/exp/\")\n",
    "print(\"\\n你可以在 Google Drive 的以下位置找到:\")\n",
    "print(f\"  MyDrive/TurboSL_workspace/TurboSL/code/exp/\")\n",
    "print(\"\\n这些文件会永久保存，即使关闭 Colab 也不会丢失！\")"
   ]
  },
  {
   "cell_type": "markdown",
   "metadata": {},
   "source": [
    "## 12. 下载结果（可选）"
   ]
  },
  {
   "cell_type": "code",
   "execution_count": null,
   "metadata": {},
   "outputs": [],
   "source": [
    "# 如果需要下载到本地\n",
    "import os\n",
    "import glob\n",
    "from datetime import datetime\n",
    "\n",
    "%cd {PROJECT_DIR}/code\n",
    "\n",
    "exp_dirs = sorted(glob.glob('exp/*/'), key=os.path.getmtime, reverse=True)\n",
    "\n",
    "if exp_dirs:\n",
    "    latest_exp = exp_dirs[0].rstrip('/')\n",
    "    exp_name = os.path.basename(latest_exp)\n",
    "    \n",
    "    # 压缩结果\n",
    "    output_name = f\"turbosl_results_{datetime.now().strftime('%Y%m%d_%H%M%S')}.zip\"\n",
    "    !zip -r {output_name} {latest_exp} -q\n",
    "    \n",
    "    print(f\"✓ 结果已压缩: {output_name}\")\n",
    "    \n",
    "    # 下载\n",
    "    from google.colab import files\n",
    "    files.download(output_name)\n",
    "    print(\"✓ 开始下载...\")\n",
    "else:\n",
    "    print(\"未找到实验结果\")"
   ]
  },
  {
   "cell_type": "markdown",
   "metadata": {},
   "source": [
    "## 📝 使用说明\n",
    "\n",
    "### 首次使用:\n",
    "1. 运行所有 cells，需要约 15-20 分钟完成安装\n",
    "2. 安装完成后开始训练\n",
    "3. 训练结果自动保存到 Google Drive\n",
    "\n",
    "### 再次使用:\n",
    "1. 重新打开这个 notebook\n",
    "2. 运行所有 cells，只需要 2-3 分钟恢复环境\n",
    "3. 直接开始训练，无需重新安装\n",
    "\n",
    "### 优势:\n",
    "- ✅ 第一次安装后，以后每次启动只需 2-3 分钟\n",
    "- ✅ 所有代码和结果都保存在 Google Drive，永不丢失\n",
    "- ✅ 可以随时中断和恢复训练\n",
    "- ✅ 多次训练的历史记录都会保留\n",
    "\n",
    "### 注意事项:\n",
    "- ⚠️  确保 Google Drive 有足够空间（项目约 500MB，训练结果约 1-2GB）\n",
    "- ⚠️  Colab 免费版有 GPU 使用时间限制（通常 12 小时）\n",
    "- ⚠️  如果更换 GPU 类型，可能需要重新编译 tiny-cuda-nn"
   ]
  }
 ],
 "metadata": {
  "accelerator": "GPU",
  "colab": {
   "gpuType": "T4",
   "provenance": []
  },
  "kernelspec": {
   "display_name": "Python 3",
   "name": "python3"
  },
  "language_info": {
   "name": "python"
  }
 },
 "nbformat": 4,
 "nbformat_minor": 0
}
