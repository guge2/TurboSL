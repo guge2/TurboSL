{
 "cells": [
  {
   "cell_type": "markdown",
   "metadata": {},
   "source": [
    "# TurboSL: Neural Inverse Structured Light - Google Colab Training\n",
    "\n",
    "这个 notebook 用于在 Google Colab 上训练 TurboSL 模型\n",
    "\n",
    "**重要**: 确保在 Colab 中选择 GPU 运行时\n",
    "- Runtime -> Change runtime type -> Hardware accelerator -> GPU"
   ]
  },
  {
   "cell_type": "markdown",
   "metadata": {},
   "source": [
    "## 1. 检查 GPU 环境"
   ]
  },
  {
   "cell_type": "code",
   "execution_count": null,
   "metadata": {},
   "outputs": [],
   "source": [
    "import torch\n",
    "import sys\n",
    "\n",
    "print(f\"Python version: {sys.version}\")\n",
    "print(f\"PyTorch version: {torch.__version__}\")\n",
    "print(f\"CUDA available: {torch.cuda.is_available()}\")\n",
    "if torch.cuda.is_available():\n",
    "    print(f\"CUDA version: {torch.version.cuda}\")\n",
    "    print(f\"GPU: {torch.cuda.get_device_name(0)}\")\n",
    "    print(f\"GPU Memory: {torch.cuda.get_device_properties(0).total_memory / 1024**3:.2f} GB\")\n",
    "else:\n",
    "    print(\"WARNING: No GPU detected! Please enable GPU in Runtime settings.\")"
   ]
  },
  {
   "cell_type": "markdown",
   "metadata": {},
   "source": [
    "## 2. 克隆项目仓库"
   ]
  },
  {
   "cell_type": "code",
   "execution_count": null,
   "metadata": {},
   "outputs": [],
   "source": [
    "# 克隆项目\n",
    "!git clone https://github.com/guge2/TurboSL.git\n",
    "%cd TurboSL\n",
    "\n",
    "# 查看项目结构\n",
    "!ls -la"
   ]
  },
  {
   "cell_type": "markdown",
   "metadata": {},
   "source": [
    "## 3. 安装依赖\n",
    "\n",
    "### 3.1 安装 PyTorch (如果需要特定版本)"
   ]
  },
  {
   "cell_type": "code",
   "execution_count": null,
   "metadata": {},
   "outputs": [],
   "source": [
    "# Colab 通常已预装 PyTorch，但如果需要特定版本，可以取消注释下面的命令\n",
    "# !pip install torch==1.13.1+cu117 torchvision==0.14.1+cu117 --index-url https://download.pytorch.org/whl/cu117\n",
    "\n",
    "# 检查当前 PyTorch 版本\n",
    "import torch\n",
    "print(f\"Current PyTorch: {torch.__version__}\")\n",
    "print(f\"CUDA: {torch.version.cuda}\")"
   ]
  },
  {
   "cell_type": "markdown",
   "metadata": {},
   "source": [
    "### 3.2 安装 tiny-cuda-nn (关键依赖)"
   ]
  },
  {
   "cell_type": "code",
   "execution_count": null,
   "metadata": {},
   "outputs": [],
   "source": [
    "# 安装编译工具\n",
    "!apt-get update\n",
    "!apt-get install -y build-essential\n",
    "\n",
    "# 安装 tiny-cuda-nn\n",
    "print(\"Installing tiny-cuda-nn... This may take 5-10 minutes...\")\n",
    "!pip install git+https://github.com/NVlabs/tiny-cuda-nn/@212104156403bd87616c1a4f73a1c5f2c2e172a9#subdirectory=bindings/torch\n",
    "print(\"tiny-cuda-nn installation completed!\")"
   ]
  },
  {
   "cell_type": "markdown",
   "metadata": {},
   "source": [
    "### 3.3 安装其他依赖"
   ]
  },
  {
   "cell_type": "code",
   "execution_count": null,
   "metadata": {},
   "outputs": [],
   "source": [
    "# 安装项目依赖\n",
    "# 注意: 某些包可能与 Colab 预装版本冲突，这是正常的\n",
    "!pip install -r code/requirements.txt --quiet\n",
    "\n",
    "print(\"All dependencies installed!\")"
   ]
  },
  {
   "cell_type": "markdown",
   "metadata": {},
   "source": [
    "## 4. 检查数据"
   ]
  },
  {
   "cell_type": "code",
   "execution_count": null,
   "metadata": {},
   "outputs": [],
   "source": [
    "import os\n",
    "\n",
    "# 检查数据目录\n",
    "data_dir = \"data/captured_data/david/david_opt0_n3_f128\"\n",
    "\n",
    "if os.path.exists(data_dir):\n",
    "    print(f\"✓ Data directory found: {data_dir}\")\n",
    "    \n",
    "    # 列出数据内容\n",
    "    print(\"\\nData structure:\")\n",
    "    !ls -lh {data_dir}\n",
    "    \n",
    "    print(\"\\nImages:\")\n",
    "    !ls -lh {data_dir}/images/scene_images/\n",
    "    \n",
    "    print(\"\\nPatterns:\")\n",
    "    !ls -lh {data_dir}/patterns/\n",
    "else:\n",
    "    print(f\"✗ Data directory not found: {data_dir}\")\n",
    "    print(\"Please check if the data is included in the repository.\")"
   ]
  },
  {
   "cell_type": "markdown",
   "metadata": {},
   "source": [
    "## 5. 配置训练参数 (可选)"
   ]
  },
  {
   "cell_type": "code",
   "execution_count": null,
   "metadata": {},
   "outputs": [],
   "source": [
    "# 查看当前配置\n",
    "!cat code/configs/neus-sl-geoalbamb-capture-blur.yaml"
   ]
  },
  {
   "cell_type": "markdown",
   "metadata": {},
   "source": [
    "### 5.1 创建快速测试配置 (可选)\n",
    "\n",
    "如果想快速测试，可以创建一个训练步数较少的配置"
   ]
  },
  {
   "cell_type": "code",
   "execution_count": null,
   "metadata": {},
   "outputs": [],
   "source": [
    "# 可选: 创建快速测试配置\n",
    "# 取消注释下面的代码来使用快速配置\n",
    "\n",
    "# import yaml\n",
    "# with open('code/configs/neus-sl-geoalbamb-capture-blur.yaml', 'r') as f:\n",
    "#     config = yaml.safe_load(f)\n",
    "# \n",
    "# # 修改训练步数为 2000 (快速测试)\n",
    "# config['trainer']['max_steps'] = 2000\n",
    "# config['trainer']['val_check_interval'] = 500\n",
    "# \n",
    "# # 保存为新配置\n",
    "# with open('code/configs/neus-sl-quick-test.yaml', 'w') as f:\n",
    "#     yaml.dump(config, f)\n",
    "# \n",
    "# print(\"Quick test config created!\")\n",
    "# config_file = \"configs/neus-sl-quick-test.yaml\"\n",
    "\n",
    "# 使用默认配置\n",
    "config_file = \"configs/neus-sl-geoalbamb-capture-blur.yaml\"\n",
    "print(f\"Using config: {config_file}\")"
   ]
  },
  {
   "cell_type": "markdown",
   "metadata": {},
   "source": [
    "## 6. 开始训练"
   ]
  },
  {
   "cell_type": "code",
   "execution_count": null,
   "metadata": {},
   "outputs": [],
   "source": [
    "# 切换到 code 目录\n",
    "%cd code\n",
    "\n",
    "# 开始训练\n",
    "!python launch.py --config {config_file} --gpu 0"
   ]
  },
  {
   "cell_type": "markdown",
   "metadata": {},
   "source": [
    "## 7. 监控训练进度\n",
    "\n",
    "训练过程中，你可以在另一个 cell 中查看日志"
   ]
  },
  {
   "cell_type": "code",
   "execution_count": null,
   "metadata": {},
   "outputs": [],
   "source": [
    "# 查看最新的实验目录\n",
    "!ls -lt exp/"
   ]
  },
  {
   "cell_type": "code",
   "execution_count": null,
   "metadata": {},
   "outputs": [],
   "source": [
    "# 查看训练日志 (替换为实际的实验名称)\n",
    "# !tail -100 exp/[experiment_name]/csv_logs/metrics.csv"
   ]
  },
  {
   "cell_type": "markdown",
   "metadata": {},
   "source": [
    "## 8. 可视化训练结果"
   ]
  },
  {
   "cell_type": "code",
   "execution_count": null,
   "metadata": {},
   "outputs": [],
   "source": [
    "# 安装 TensorBoard\n",
    "%load_ext tensorboard\n",
    "\n",
    "# 启动 TensorBoard (替换为实际的实验名称)\n",
    "# %tensorboard --logdir runs/"
   ]
  },
  {
   "cell_type": "markdown",
   "metadata": {},
   "source": [
    "## 9. 下载训练结果"
   ]
  },
  {
   "cell_type": "code",
   "execution_count": null,
   "metadata": {},
   "outputs": [],
   "source": [
    "# 压缩训练结果\n",
    "import os\n",
    "from datetime import datetime\n",
    "\n",
    "# 查找最新的实验目录\n",
    "exp_dirs = sorted([d for d in os.listdir('exp') if os.path.isdir(os.path.join('exp', d))], \n",
    "                  key=lambda x: os.path.getmtime(os.path.join('exp', x)), \n",
    "                  reverse=True)\n",
    "\n",
    "if exp_dirs:\n",
    "    latest_exp = exp_dirs[0]\n",
    "    print(f\"Latest experiment: {latest_exp}\")\n",
    "    \n",
    "    # 压缩结果\n",
    "    output_name = f\"turbosl_results_{datetime.now().strftime('%Y%m%d_%H%M%S')}.zip\"\n",
    "    !cd exp && zip -r ../{output_name} {latest_exp}\n",
    "    \n",
    "    print(f\"\\nResults saved to: {output_name}\")\n",
    "    print(\"You can download it from the file browser on the left.\")\n",
    "    \n",
    "    # 或者直接下载\n",
    "    from google.colab import files\n",
    "    files.download(output_name)\n",
    "else:\n",
    "    print(\"No experiment found.\")"
   ]
  },
  {
   "cell_type": "markdown",
   "metadata": {},
   "source": [
    "## 10. 故障排查\n",
    "\n",
    "### 常见问题:\n",
    "\n",
    "1. **GPU 不可用**\n",
    "   - 检查: Runtime -> Change runtime type -> Hardware accelerator -> GPU\n",
    "\n",
    "2. **tiny-cuda-nn 安装失败**\n",
    "   - 确保 CUDA 版本正确\n",
    "   - 尝试重新运行安装命令\n",
    "\n",
    "3. **显存不足 (OOM)**\n",
    "   - 减少 `train_num_rays` (256 -> 128)\n",
    "   - 减少 `num_samples_per_ray` (1024 -> 512)\n",
    "\n",
    "4. **会话超时**\n",
    "   - Colab 免费版有时间限制\n",
    "   - 定期保存检查点\n",
    "   - 考虑使用 Colab Pro"
   ]
  },
  {
   "cell_type": "markdown",
   "metadata": {},
   "source": [
    "## 附录: 系统信息"
   ]
  },
  {
   "cell_type": "code",
   "execution_count": null,
   "metadata": {},
   "outputs": [],
   "source": [
    "# 查看完整的系统信息\n",
    "!nvidia-smi\n",
    "!nvcc --version"
   ]
  }
 ],
 "metadata": {
  "accelerator": "GPU",
  "colab": {
   "gpuType": "T4",
   "provenance": []
  },
  "kernelspec": {
   "display_name": "Python 3",
   "name": "python3"
  },
  "language_info": {
   "name": "python"
  }
 },
 "nbformat": 4,
 "nbformat_minor": 0
}
